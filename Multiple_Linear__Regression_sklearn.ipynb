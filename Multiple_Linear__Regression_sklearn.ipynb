{
  "nbformat": 4,
  "nbformat_minor": 0,
  "metadata": {
    "colab": {
      "name": "Multiple_Linear _Regression--sklearn.ipynb",
      "provenance": []
    },
    "kernelspec": {
      "name": "python3",
      "display_name": "Python 3"
    }
  },
  "cells": [
    {
      "cell_type": "code",
      "metadata": {
        "id": "Ze8s7s9wI5yn",
        "colab_type": "code",
        "colab": {}
      },
      "source": [
        "#Importing the libraries\n",
        "import numpy as np\n",
        "import matplotlib.pyplot as plt\n",
        "import pandas as pd"
      ],
      "execution_count": 1,
      "outputs": []
    },
    {
      "cell_type": "code",
      "metadata": {
        "id": "EZbkt-fmI84R",
        "colab_type": "code",
        "colab": {
          "base_uri": "https://localhost:8080/",
          "height": 204
        },
        "outputId": "105aa53e-e1c9-4086-8614-1dfb5e887040"
      },
      "source": [
        "#Importing the dataset\n",
        "path = 'ex1data2.txt'\n",
        "dataset = pd.read_csv(path, header=None, names=['Size', 'Bedrooms', 'Price'])\n",
        "dataset.head()"
      ],
      "execution_count": 2,
      "outputs": [
        {
          "output_type": "execute_result",
          "data": {
            "text/html": [
              "<div>\n",
              "<style scoped>\n",
              "    .dataframe tbody tr th:only-of-type {\n",
              "        vertical-align: middle;\n",
              "    }\n",
              "\n",
              "    .dataframe tbody tr th {\n",
              "        vertical-align: top;\n",
              "    }\n",
              "\n",
              "    .dataframe thead th {\n",
              "        text-align: right;\n",
              "    }\n",
              "</style>\n",
              "<table border=\"1\" class=\"dataframe\">\n",
              "  <thead>\n",
              "    <tr style=\"text-align: right;\">\n",
              "      <th></th>\n",
              "      <th>Size</th>\n",
              "      <th>Bedrooms</th>\n",
              "      <th>Price</th>\n",
              "    </tr>\n",
              "  </thead>\n",
              "  <tbody>\n",
              "    <tr>\n",
              "      <th>0</th>\n",
              "      <td>2104</td>\n",
              "      <td>3</td>\n",
              "      <td>399900</td>\n",
              "    </tr>\n",
              "    <tr>\n",
              "      <th>1</th>\n",
              "      <td>1600</td>\n",
              "      <td>3</td>\n",
              "      <td>329900</td>\n",
              "    </tr>\n",
              "    <tr>\n",
              "      <th>2</th>\n",
              "      <td>2400</td>\n",
              "      <td>3</td>\n",
              "      <td>369000</td>\n",
              "    </tr>\n",
              "    <tr>\n",
              "      <th>3</th>\n",
              "      <td>1416</td>\n",
              "      <td>2</td>\n",
              "      <td>232000</td>\n",
              "    </tr>\n",
              "    <tr>\n",
              "      <th>4</th>\n",
              "      <td>3000</td>\n",
              "      <td>4</td>\n",
              "      <td>539900</td>\n",
              "    </tr>\n",
              "  </tbody>\n",
              "</table>\n",
              "</div>"
            ],
            "text/plain": [
              "   Size  Bedrooms   Price\n",
              "0  2104         3  399900\n",
              "1  1600         3  329900\n",
              "2  2400         3  369000\n",
              "3  1416         2  232000\n",
              "4  3000         4  539900"
            ]
          },
          "metadata": {
            "tags": []
          },
          "execution_count": 2
        }
      ]
    },
    {
      "cell_type": "code",
      "metadata": {
        "id": "CPcQ-OOcQyON",
        "colab_type": "code",
        "colab": {
          "base_uri": "https://localhost:8080/",
          "height": 204
        },
        "outputId": "e3dbb728-73c9-45b5-a35c-6308cdf51a42"
      },
      "source": [
        "#Normalization: rescaling the data -1 to 1\n",
        "\n",
        "dataset = (dataset - dataset.mean()) / dataset.std() #or / range\n",
        "\n",
        "dataset.head()"
      ],
      "execution_count": 3,
      "outputs": [
        {
          "output_type": "execute_result",
          "data": {
            "text/html": [
              "<div>\n",
              "<style scoped>\n",
              "    .dataframe tbody tr th:only-of-type {\n",
              "        vertical-align: middle;\n",
              "    }\n",
              "\n",
              "    .dataframe tbody tr th {\n",
              "        vertical-align: top;\n",
              "    }\n",
              "\n",
              "    .dataframe thead th {\n",
              "        text-align: right;\n",
              "    }\n",
              "</style>\n",
              "<table border=\"1\" class=\"dataframe\">\n",
              "  <thead>\n",
              "    <tr style=\"text-align: right;\">\n",
              "      <th></th>\n",
              "      <th>Size</th>\n",
              "      <th>Bedrooms</th>\n",
              "      <th>Price</th>\n",
              "    </tr>\n",
              "  </thead>\n",
              "  <tbody>\n",
              "    <tr>\n",
              "      <th>0</th>\n",
              "      <td>0.130010</td>\n",
              "      <td>-0.223675</td>\n",
              "      <td>0.475747</td>\n",
              "    </tr>\n",
              "    <tr>\n",
              "      <th>1</th>\n",
              "      <td>-0.504190</td>\n",
              "      <td>-0.223675</td>\n",
              "      <td>-0.084074</td>\n",
              "    </tr>\n",
              "    <tr>\n",
              "      <th>2</th>\n",
              "      <td>0.502476</td>\n",
              "      <td>-0.223675</td>\n",
              "      <td>0.228626</td>\n",
              "    </tr>\n",
              "    <tr>\n",
              "      <th>3</th>\n",
              "      <td>-0.735723</td>\n",
              "      <td>-1.537767</td>\n",
              "      <td>-0.867025</td>\n",
              "    </tr>\n",
              "    <tr>\n",
              "      <th>4</th>\n",
              "      <td>1.257476</td>\n",
              "      <td>1.090417</td>\n",
              "      <td>1.595389</td>\n",
              "    </tr>\n",
              "  </tbody>\n",
              "</table>\n",
              "</div>"
            ],
            "text/plain": [
              "       Size  Bedrooms     Price\n",
              "0  0.130010 -0.223675  0.475747\n",
              "1 -0.504190 -0.223675 -0.084074\n",
              "2  0.502476 -0.223675  0.228626\n",
              "3 -0.735723 -1.537767 -0.867025\n",
              "4  1.257476  1.090417  1.595389"
            ]
          },
          "metadata": {
            "tags": []
          },
          "execution_count": 3
        }
      ]
    },
    {
      "cell_type": "code",
      "metadata": {
        "id": "xmHil-TXKeOu",
        "colab_type": "code",
        "colab": {}
      },
      "source": [
        "#Separete x from y\n",
        "\n",
        "cols = dataset.shape[1]\n",
        "X = dataset.iloc[:, 0:cols-1].values\n",
        "y = dataset.iloc[:, cols-1:cols].values\n"
      ],
      "execution_count": 4,
      "outputs": []
    },
    {
      "cell_type": "code",
      "metadata": {
        "id": "s4bGPxrUKX4U",
        "colab_type": "code",
        "colab": {
          "base_uri": "https://localhost:8080/",
          "height": 34
        },
        "outputId": "a24accf6-b8de-49fc-df54-a4c2831548aa"
      },
      "source": [
        "#Splitting the dataset into the Training set and Test set\n",
        "\n",
        "from sklearn.model_selection import train_test_split\n",
        "\n",
        "X_train, X_test, y_train, y_test = train_test_split(X, y, test_size = 1/3, random_state = 0)\n",
        "\n",
        "X_train.shape, X_test.shape, y_train.shape, y_test.shape"
      ],
      "execution_count": 5,
      "outputs": [
        {
          "output_type": "execute_result",
          "data": {
            "text/plain": [
              "((31, 2), (16, 2), (31, 1), (16, 1))"
            ]
          },
          "metadata": {
            "tags": []
          },
          "execution_count": 5
        }
      ]
    },
    {
      "cell_type": "code",
      "metadata": {
        "id": "QdOgJAjrL65G",
        "colab_type": "code",
        "colab": {
          "base_uri": "https://localhost:8080/",
          "height": 34
        },
        "outputId": "f2366504-86fe-4445-9b71-b4c462bf6a78"
      },
      "source": [
        "# Fitting Simple Linear Regression to the Training set\n",
        "\n",
        "from sklearn.linear_model import LinearRegression\n",
        "\n",
        "# Create a linear regression object\n",
        "\n",
        "regressor = LinearRegression()\n",
        "regressor.fit(X_train, y_train)"
      ],
      "execution_count": 6,
      "outputs": [
        {
          "output_type": "execute_result",
          "data": {
            "text/plain": [
              "LinearRegression(copy_X=True, fit_intercept=True, n_jobs=None, normalize=False)"
            ]
          },
          "metadata": {
            "tags": []
          },
          "execution_count": 6
        }
      ]
    },
    {
      "cell_type": "code",
      "metadata": {
        "id": "9rBrqc8XMezP",
        "colab_type": "code",
        "colab": {}
      },
      "source": [
        "# Predicting the Test set results\n",
        "y_pred = regressor.predict(X_test)"
      ],
      "execution_count": 7,
      "outputs": []
    },
    {
      "cell_type": "code",
      "metadata": {
        "id": "aK00q9hWOvK3",
        "colab_type": "code",
        "colab": {
          "base_uri": "https://localhost:8080/",
          "height": 1000
        },
        "outputId": "1e6b9829-c33c-459d-974a-a0bdd5ec42e5"
      },
      "source": [
        "#Building the optimal model using backward elimination\n",
        "import statsmodels.api as sm\n",
        "X = np.append(arr = np.ones((47,1)).astype(int) , values = X , axis=1)\n",
        "print(X)\n",
        "X_opt = X[ : , :]\n",
        "regressor_OLS = sm.OLS(endog = y, exog = X_opt).fit()\n",
        "regressor_OLS.summary()"
      ],
      "execution_count": 8,
      "outputs": [
        {
          "output_type": "stream",
          "text": [
            "/usr/local/lib/python3.6/dist-packages/statsmodels/tools/_testing.py:19: FutureWarning: pandas.util.testing is deprecated. Use the functions in the public API at pandas.testing instead.\n",
            "  import pandas.util.testing as tm\n"
          ],
          "name": "stderr"
        },
        {
          "output_type": "stream",
          "text": [
            "[[ 1.00000000e+00  1.30009869e-01 -2.23675187e-01]\n",
            " [ 1.00000000e+00 -5.04189838e-01 -2.23675187e-01]\n",
            " [ 1.00000000e+00  5.02476364e-01 -2.23675187e-01]\n",
            " [ 1.00000000e+00 -7.35723065e-01 -1.53776691e+00]\n",
            " [ 1.00000000e+00  1.25747602e+00  1.09041654e+00]\n",
            " [ 1.00000000e+00 -1.97317285e-02  1.09041654e+00]\n",
            " [ 1.00000000e+00 -5.87239800e-01 -2.23675187e-01]\n",
            " [ 1.00000000e+00 -7.21881404e-01 -2.23675187e-01]\n",
            " [ 1.00000000e+00 -7.81023044e-01 -2.23675187e-01]\n",
            " [ 1.00000000e+00 -6.37573110e-01 -2.23675187e-01]\n",
            " [ 1.00000000e+00 -7.63567023e-02  1.09041654e+00]\n",
            " [ 1.00000000e+00 -8.56737193e-04 -2.23675187e-01]\n",
            " [ 1.00000000e+00 -1.39273340e-01 -2.23675187e-01]\n",
            " [ 1.00000000e+00  3.11729182e+00  2.40450826e+00]\n",
            " [ 1.00000000e+00 -9.21956312e-01 -2.23675187e-01]\n",
            " [ 1.00000000e+00  3.76643089e-01  1.09041654e+00]\n",
            " [ 1.00000000e+00 -8.56523009e-01 -1.53776691e+00]\n",
            " [ 1.00000000e+00 -9.62222960e-01 -2.23675187e-01]\n",
            " [ 1.00000000e+00  7.65467909e-01  1.09041654e+00]\n",
            " [ 1.00000000e+00  1.29648433e+00  1.09041654e+00]\n",
            " [ 1.00000000e+00 -2.94048269e-01 -2.23675187e-01]\n",
            " [ 1.00000000e+00 -1.41790005e-01 -1.53776691e+00]\n",
            " [ 1.00000000e+00 -4.99156507e-01 -2.23675187e-01]\n",
            " [ 1.00000000e+00 -4.86733818e-02  1.09041654e+00]\n",
            " [ 1.00000000e+00  2.37739217e+00 -2.23675187e-01]\n",
            " [ 1.00000000e+00 -1.13335621e+00 -2.23675187e-01]\n",
            " [ 1.00000000e+00 -6.82873089e-01 -2.23675187e-01]\n",
            " [ 1.00000000e+00  6.61026291e-01 -2.23675187e-01]\n",
            " [ 1.00000000e+00  2.50809813e-01 -2.23675187e-01]\n",
            " [ 1.00000000e+00  8.00701226e-01 -2.23675187e-01]\n",
            " [ 1.00000000e+00 -2.03448310e-01 -1.53776691e+00]\n",
            " [ 1.00000000e+00 -1.25918949e+00 -2.85185864e+00]\n",
            " [ 1.00000000e+00  4.94765729e-02  1.09041654e+00]\n",
            " [ 1.00000000e+00  1.42986760e+00 -2.23675187e-01]\n",
            " [ 1.00000000e+00 -2.38681627e-01  1.09041654e+00]\n",
            " [ 1.00000000e+00 -7.09298077e-01 -2.23675187e-01]\n",
            " [ 1.00000000e+00 -9.58447962e-01 -2.23675187e-01]\n",
            " [ 1.00000000e+00  1.65243186e-01  1.09041654e+00]\n",
            " [ 1.00000000e+00  2.78635031e+00  1.09041654e+00]\n",
            " [ 1.00000000e+00  2.02993169e-01  1.09041654e+00]\n",
            " [ 1.00000000e+00 -4.23656542e-01 -1.53776691e+00]\n",
            " [ 1.00000000e+00  2.98626458e-01 -2.23675187e-01]\n",
            " [ 1.00000000e+00  7.12617934e-01  1.09041654e+00]\n",
            " [ 1.00000000e+00 -1.00752294e+00 -2.23675187e-01]\n",
            " [ 1.00000000e+00 -1.44542274e+00 -1.53776691e+00]\n",
            " [ 1.00000000e+00 -1.87089985e-01  1.09041654e+00]\n",
            " [ 1.00000000e+00 -1.00374794e+00 -2.23675187e-01]]\n"
          ],
          "name": "stdout"
        },
        {
          "output_type": "execute_result",
          "data": {
            "text/html": [
              "<table class=\"simpletable\">\n",
              "<caption>OLS Regression Results</caption>\n",
              "<tr>\n",
              "  <th>Dep. Variable:</th>            <td>y</td>        <th>  R-squared:         </th> <td>   0.733</td>\n",
              "</tr>\n",
              "<tr>\n",
              "  <th>Model:</th>                   <td>OLS</td>       <th>  Adj. R-squared:    </th> <td>   0.721</td>\n",
              "</tr>\n",
              "<tr>\n",
              "  <th>Method:</th>             <td>Least Squares</td>  <th>  F-statistic:       </th> <td>   60.38</td>\n",
              "</tr>\n",
              "<tr>\n",
              "  <th>Date:</th>             <td>Thu, 25 Jun 2020</td> <th>  Prob (F-statistic):</th> <td>2.43e-13</td>\n",
              "</tr>\n",
              "<tr>\n",
              "  <th>Time:</th>                 <td>22:45:17</td>     <th>  Log-Likelihood:    </th> <td> -35.158</td>\n",
              "</tr>\n",
              "<tr>\n",
              "  <th>No. Observations:</th>      <td>    47</td>      <th>  AIC:               </th> <td>   76.32</td>\n",
              "</tr>\n",
              "<tr>\n",
              "  <th>Df Residuals:</th>          <td>    44</td>      <th>  BIC:               </th> <td>   81.87</td>\n",
              "</tr>\n",
              "<tr>\n",
              "  <th>Df Model:</th>              <td>     2</td>      <th>                     </th>     <td> </td>   \n",
              "</tr>\n",
              "<tr>\n",
              "  <th>Covariance Type:</th>      <td>nonrobust</td>    <th>                     </th>     <td> </td>   \n",
              "</tr>\n",
              "</table>\n",
              "<table class=\"simpletable\">\n",
              "<tr>\n",
              "    <td></td>       <th>coef</th>     <th>std err</th>      <th>t</th>      <th>P>|t|</th>  <th>[0.025</th>    <th>0.975]</th>  \n",
              "</tr>\n",
              "<tr>\n",
              "  <th>const</th> <td>-1.388e-16</td> <td>    0.077</td> <td> -1.8e-15</td> <td> 1.000</td> <td>   -0.155</td> <td>    0.155</td>\n",
              "</tr>\n",
              "<tr>\n",
              "  <th>x1</th>    <td>    0.8848</td> <td>    0.094</td> <td>    9.409</td> <td> 0.000</td> <td>    0.695</td> <td>    1.074</td>\n",
              "</tr>\n",
              "<tr>\n",
              "  <th>x2</th>    <td>   -0.0532</td> <td>    0.094</td> <td>   -0.566</td> <td> 0.575</td> <td>   -0.243</td> <td>    0.136</td>\n",
              "</tr>\n",
              "</table>\n",
              "<table class=\"simpletable\">\n",
              "<tr>\n",
              "  <th>Omnibus:</th>       <td> 4.083</td> <th>  Durbin-Watson:     </th> <td>   1.826</td>\n",
              "</tr>\n",
              "<tr>\n",
              "  <th>Prob(Omnibus):</th> <td> 0.130</td> <th>  Jarque-Bera (JB):  </th> <td>   2.977</td>\n",
              "</tr>\n",
              "<tr>\n",
              "  <th>Skew:</th>          <td> 0.567</td> <th>  Prob(JB):          </th> <td>   0.226</td>\n",
              "</tr>\n",
              "<tr>\n",
              "  <th>Kurtosis:</th>      <td> 3.484</td> <th>  Cond. No.          </th> <td>    1.88</td>\n",
              "</tr>\n",
              "</table><br/><br/>Warnings:<br/>[1] Standard Errors assume that the covariance matrix of the errors is correctly specified."
            ],
            "text/plain": [
              "<class 'statsmodels.iolib.summary.Summary'>\n",
              "\"\"\"\n",
              "                            OLS Regression Results                            \n",
              "==============================================================================\n",
              "Dep. Variable:                      y   R-squared:                       0.733\n",
              "Model:                            OLS   Adj. R-squared:                  0.721\n",
              "Method:                 Least Squares   F-statistic:                     60.38\n",
              "Date:                Thu, 25 Jun 2020   Prob (F-statistic):           2.43e-13\n",
              "Time:                        22:45:17   Log-Likelihood:                -35.158\n",
              "No. Observations:                  47   AIC:                             76.32\n",
              "Df Residuals:                      44   BIC:                             81.87\n",
              "Df Model:                           2                                         \n",
              "Covariance Type:            nonrobust                                         \n",
              "==============================================================================\n",
              "                 coef    std err          t      P>|t|      [0.025      0.975]\n",
              "------------------------------------------------------------------------------\n",
              "const      -1.388e-16      0.077   -1.8e-15      1.000      -0.155       0.155\n",
              "x1             0.8848      0.094      9.409      0.000       0.695       1.074\n",
              "x2            -0.0532      0.094     -0.566      0.575      -0.243       0.136\n",
              "==============================================================================\n",
              "Omnibus:                        4.083   Durbin-Watson:                   1.826\n",
              "Prob(Omnibus):                  0.130   Jarque-Bera (JB):                2.977\n",
              "Skew:                           0.567   Prob(JB):                        0.226\n",
              "Kurtosis:                       3.484   Cond. No.                         1.88\n",
              "==============================================================================\n",
              "\n",
              "Warnings:\n",
              "[1] Standard Errors assume that the covariance matrix of the errors is correctly specified.\n",
              "\"\"\""
            ]
          },
          "metadata": {
            "tags": []
          },
          "execution_count": 8
        }
      ]
    },
    {
      "cell_type": "markdown",
      "metadata": {
        "id": "YEhq8InHbj7F",
        "colab_type": "text"
      },
      "source": [
        "x1= Size is variable important!"
      ]
    },
    {
      "cell_type": "code",
      "metadata": {
        "id": "PzxxeQHxb1Wj",
        "colab_type": "code",
        "colab": {}
      },
      "source": [
        ""
      ],
      "execution_count": 8,
      "outputs": []
    }
  ]
}