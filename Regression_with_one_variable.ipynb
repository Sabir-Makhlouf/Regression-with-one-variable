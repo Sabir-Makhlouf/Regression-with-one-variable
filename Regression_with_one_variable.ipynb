{
  "nbformat": 4,
  "nbformat_minor": 0,
  "metadata": {
    "colab": {
      "name": "Regression with one variable.ipynb",
      "provenance": []
    },
    "kernelspec": {
      "name": "python3",
      "display_name": "Python 3"
    }
  },
  "cells": [
    {
      "cell_type": "code",
      "metadata": {
        "id": "IHoT2v0GeNLg",
        "colab_type": "code",
        "colab": {}
      },
      "source": [
        "import numpy as np\n",
        "import pandas as pd\n",
        "import matplotlib.pyplot as plt"
      ],
      "execution_count": 1,
      "outputs": []
    },
    {
      "cell_type": "code",
      "metadata": {
        "id": "kkavJORxemme",
        "colab_type": "code",
        "colab": {}
      },
      "source": [
        "path='ex1data1.txt'"
      ],
      "execution_count": 23,
      "outputs": []
    },
    {
      "cell_type": "code",
      "metadata": {
        "id": "IsFdwl_JfALS",
        "colab_type": "code",
        "colab": {}
      },
      "source": [
        "data= pd.read_csv(path, header=None)"
      ],
      "execution_count": 24,
      "outputs": []
    },
    {
      "cell_type": "code",
      "metadata": {
        "id": "bkJE0sJZfIel",
        "colab_type": "code",
        "colab": {
          "base_uri": "https://localhost:8080/",
          "height": 306
        },
        "outputId": "9fb38cab-4fd3-4643-a3a5-dd32a8cb6d59"
      },
      "source": [
        "print('data: \\n', data.head())\n",
        "print('describe: \\n',data.describe())"
      ],
      "execution_count": 26,
      "outputs": [
        {
          "output_type": "stream",
          "text": [
            "data: \n",
            "         0        1\n",
            "0  6.1101  17.5920\n",
            "1  5.5277   9.1302\n",
            "2  8.5186  13.6620\n",
            "3  7.0032  11.8540\n",
            "4  5.8598   6.8233\n",
            "describe: \n",
            "                0          1\n",
            "count  97.000000  97.000000\n",
            "mean    8.159800   5.839135\n",
            "std     3.869884   5.510262\n",
            "min     5.026900  -2.680700\n",
            "25%     5.707700   1.986900\n",
            "50%     6.589400   4.562300\n",
            "75%     8.578100   7.046700\n",
            "max    22.203000  24.147000\n"
          ],
          "name": "stdout"
        }
      ]
    },
    {
      "cell_type": "code",
      "metadata": {
        "id": "7tiRd4Dcjki-",
        "colab_type": "code",
        "colab": {}
      },
      "source": [
        "#rename the indixes from 0 1 to po.. pro.. "
      ],
      "execution_count": null,
      "outputs": []
    },
    {
      "cell_type": "code",
      "metadata": {
        "id": "ahp8KxDpfTEC",
        "colab_type": "code",
        "colab": {
          "base_uri": "https://localhost:8080/",
          "height": 453
        },
        "outputId": "7cd02723-b817-4410-8b0e-d1bd52bcab0d"
      },
      "source": [
        "data=pd.read_csv(path, header=None, names=['Population', 'Profit'])\n",
        "print(data.head())\n",
        "\n",
        "#plot the data\n",
        "\n",
        "data.plot(kind='scatter', x='Population', y='Profit', figsize=(5,5))"
      ],
      "execution_count": 30,
      "outputs": [
        {
          "output_type": "stream",
          "text": [
            "   Population   Profit\n",
            "0      6.1101  17.5920\n",
            "1      5.5277   9.1302\n",
            "2      8.5186  13.6620\n",
            "3      7.0032  11.8540\n",
            "4      5.8598   6.8233\n"
          ],
          "name": "stdout"
        },
        {
          "output_type": "execute_result",
          "data": {
            "text/plain": [
              "<matplotlib.axes._subplots.AxesSubplot at 0x7f496d8c1978>"
            ]
          },
          "metadata": {
            "tags": []
          },
          "execution_count": 30
        },
        {
          "output_type": "display_data",
          "data": {
            "image/png": "[encoded data removed]",
            "text/plain": [
              "<Figure size 360x360 with 1 Axes>"
            ]
          },
          "metadata": {
            "tags": [],
            "needs_background": "light"
          }
        }
      ]
    },
    {
      "cell_type": "code",
      "metadata": {
        "id": "VWZJGf4nfl64",
        "colab_type": "code",
        "colab": {
          "base_uri": "https://localhost:8080/",
          "height": 343
        },
        "outputId": "121eb493-24b9-4739-f6d3-5e5f6601d1a5"
      },
      "source": [
        "data.insert(0, 'Ones', 1)"
      ],
      "execution_count": 34,
      "outputs": [
        {
          "output_type": "error",
          "ename": "ValueError",
          "evalue": "ignored",
          "traceback": [
            "\u001b[0;31m---------------------------------------------------------------------------\u001b[0m",
            "\u001b[0;31mValueError\u001b[0m                                Traceback (most recent call last)",
            "\u001b[0;32m<ipython-input-34-d14e99da7514>\u001b[0m in \u001b[0;36m<module>\u001b[0;34m()\u001b[0m\n\u001b[0;32m----> 1\u001b[0;31m \u001b[0mdata\u001b[0m\u001b[0;34m.\u001b[0m\u001b[0minsert\u001b[0m\u001b[0;34m(\u001b[0m\u001b[0;36m0\u001b[0m\u001b[0;34m,\u001b[0m \u001b[0;34m'Ones'\u001b[0m\u001b[0;34m,\u001b[0m \u001b[0;36m1\u001b[0m\u001b[0;34m)\u001b[0m\u001b[0;34m\u001b[0m\u001b[0;34m\u001b[0m\u001b[0m\n\u001b[0m\u001b[1;32m      2\u001b[0m \u001b[0mdata\u001b[0m\u001b[0;34m.\u001b[0m\u001b[0mhead\u001b[0m\u001b[0;34m(\u001b[0m\u001b[0;34m)\u001b[0m\u001b[0;34m\u001b[0m\u001b[0;34m\u001b[0m\u001b[0m\n",
            "\u001b[0;32m/usr/local/lib/python3.6/dist-packages/pandas/core/frame.py\u001b[0m in \u001b[0;36minsert\u001b[0;34m(self, loc, column, value, allow_duplicates)\u001b[0m\n\u001b[1;32m   3494\u001b[0m         \u001b[0mself\u001b[0m\u001b[0;34m.\u001b[0m\u001b[0m_ensure_valid_index\u001b[0m\u001b[0;34m(\u001b[0m\u001b[0mvalue\u001b[0m\u001b[0;34m)\u001b[0m\u001b[0;34m\u001b[0m\u001b[0;34m\u001b[0m\u001b[0m\n\u001b[1;32m   3495\u001b[0m         \u001b[0mvalue\u001b[0m \u001b[0;34m=\u001b[0m \u001b[0mself\u001b[0m\u001b[0;34m.\u001b[0m\u001b[0m_sanitize_column\u001b[0m\u001b[0;34m(\u001b[0m\u001b[0mcolumn\u001b[0m\u001b[0;34m,\u001b[0m \u001b[0mvalue\u001b[0m\u001b[0;34m,\u001b[0m \u001b[0mbroadcast\u001b[0m\u001b[0;34m=\u001b[0m\u001b[0;32mFalse\u001b[0m\u001b[0;34m)\u001b[0m\u001b[0;34m\u001b[0m\u001b[0;34m\u001b[0m\u001b[0m\n\u001b[0;32m-> 3496\u001b[0;31m         \u001b[0mself\u001b[0m\u001b[0;34m.\u001b[0m\u001b[0m_data\u001b[0m\u001b[0;34m.\u001b[0m\u001b[0minsert\u001b[0m\u001b[0;34m(\u001b[0m\u001b[0mloc\u001b[0m\u001b[0;34m,\u001b[0m \u001b[0mcolumn\u001b[0m\u001b[0;34m,\u001b[0m \u001b[0mvalue\u001b[0m\u001b[0;34m,\u001b[0m \u001b[0mallow_duplicates\u001b[0m\u001b[0;34m=\u001b[0m\u001b[0mallow_duplicates\u001b[0m\u001b[0;34m)\u001b[0m\u001b[0;34m\u001b[0m\u001b[0;34m\u001b[0m\u001b[0m\n\u001b[0m\u001b[1;32m   3497\u001b[0m \u001b[0;34m\u001b[0m\u001b[0m\n\u001b[1;32m   3498\u001b[0m     \u001b[0;32mdef\u001b[0m \u001b[0massign\u001b[0m\u001b[0;34m(\u001b[0m\u001b[0mself\u001b[0m\u001b[0;34m,\u001b[0m \u001b[0;34m**\u001b[0m\u001b[0mkwargs\u001b[0m\u001b[0;34m)\u001b[0m \u001b[0;34m->\u001b[0m \u001b[0;34m\"DataFrame\"\u001b[0m\u001b[0;34m:\u001b[0m\u001b[0;34m\u001b[0m\u001b[0;34m\u001b[0m\u001b[0m\n",
            "\u001b[0;32m/usr/local/lib/python3.6/dist-packages/pandas/core/internals/managers.py\u001b[0m in \u001b[0;36minsert\u001b[0;34m(self, loc, item, value, allow_duplicates)\u001b[0m\n\u001b[1;32m   1171\u001b[0m         \u001b[0;32mif\u001b[0m \u001b[0;32mnot\u001b[0m \u001b[0mallow_duplicates\u001b[0m \u001b[0;32mand\u001b[0m \u001b[0mitem\u001b[0m \u001b[0;32min\u001b[0m \u001b[0mself\u001b[0m\u001b[0;34m.\u001b[0m\u001b[0mitems\u001b[0m\u001b[0;34m:\u001b[0m\u001b[0;34m\u001b[0m\u001b[0;34m\u001b[0m\u001b[0m\n\u001b[1;32m   1172\u001b[0m             \u001b[0;31m# Should this be a different kind of error??\u001b[0m\u001b[0;34m\u001b[0m\u001b[0;34m\u001b[0m\u001b[0;34m\u001b[0m\u001b[0m\n\u001b[0;32m-> 1173\u001b[0;31m             \u001b[0;32mraise\u001b[0m \u001b[0mValueError\u001b[0m\u001b[0;34m(\u001b[0m\u001b[0;34mf\"cannot insert {item}, already exists\"\u001b[0m\u001b[0;34m)\u001b[0m\u001b[0;34m\u001b[0m\u001b[0;34m\u001b[0m\u001b[0m\n\u001b[0m\u001b[1;32m   1174\u001b[0m \u001b[0;34m\u001b[0m\u001b[0m\n\u001b[1;32m   1175\u001b[0m         \u001b[0;32mif\u001b[0m \u001b[0;32mnot\u001b[0m \u001b[0misinstance\u001b[0m\u001b[0;34m(\u001b[0m\u001b[0mloc\u001b[0m\u001b[0;34m,\u001b[0m \u001b[0mint\u001b[0m\u001b[0;34m)\u001b[0m\u001b[0;34m:\u001b[0m\u001b[0;34m\u001b[0m\u001b[0;34m\u001b[0m\u001b[0m\n",
            "\u001b[0;31mValueError\u001b[0m: cannot insert Ones, already exists"
          ]
        }
      ]
    },
    {
      "cell_type": "code",
      "metadata": {
        "id": "W8uiSO74gYEZ",
        "colab_type": "code",
        "colab": {
          "base_uri": "https://localhost:8080/",
          "height": 204
        },
        "outputId": "53d82444-e581-4f2d-9979-7a2e3d17a724"
      },
      "source": [
        "data.head()"
      ],
      "execution_count": 35,
      "outputs": [
        {
          "output_type": "execute_result",
          "data": {
            "text/html": [
              "<div>\n",
              "<style scoped>\n",
              "    .dataframe tbody tr th:only-of-type {\n",
              "        vertical-align: middle;\n",
              "    }\n",
              "\n",
              "    .dataframe tbody tr th {\n",
              "        vertical-align: top;\n",
              "    }\n",
              "\n",
              "    .dataframe thead th {\n",
              "        text-align: right;\n",
              "    }\n",
              "</style>\n",
              "<table border=\"1\" class=\"dataframe\">\n",
              "  <thead>\n",
              "    <tr style=\"text-align: right;\">\n",
              "      <th></th>\n",
              "      <th>Ones</th>\n",
              "      <th>Population</th>\n",
              "      <th>Profit</th>\n",
              "    </tr>\n",
              "  </thead>\n",
              "  <tbody>\n",
              "    <tr>\n",
              "      <th>0</th>\n",
              "      <td>1</td>\n",
              "      <td>6.1101</td>\n",
              "      <td>17.5920</td>\n",
              "    </tr>\n",
              "    <tr>\n",
              "      <th>1</th>\n",
              "      <td>1</td>\n",
              "      <td>5.5277</td>\n",
              "      <td>9.1302</td>\n",
              "    </tr>\n",
              "    <tr>\n",
              "      <th>2</th>\n",
              "      <td>1</td>\n",
              "      <td>8.5186</td>\n",
              "      <td>13.6620</td>\n",
              "    </tr>\n",
              "    <tr>\n",
              "      <th>3</th>\n",
              "      <td>1</td>\n",
              "      <td>7.0032</td>\n",
              "      <td>11.8540</td>\n",
              "    </tr>\n",
              "    <tr>\n",
              "      <th>4</th>\n",
              "      <td>1</td>\n",
              "      <td>5.8598</td>\n",
              "      <td>6.8233</td>\n",
              "    </tr>\n",
              "  </tbody>\n",
              "</table>\n",
              "</div>"
            ],
            "text/plain": [
              "   Ones  Population   Profit\n",
              "0     1      6.1101  17.5920\n",
              "1     1      5.5277   9.1302\n",
              "2     1      8.5186  13.6620\n",
              "3     1      7.0032  11.8540\n",
              "4     1      5.8598   6.8233"
            ]
          },
          "metadata": {
            "tags": []
          },
          "execution_count": 35
        }
      ]
    },
    {
      "cell_type": "code",
      "metadata": {
        "id": "xDqrlEjFiAhm",
        "colab_type": "code",
        "colab": {
          "base_uri": "https://localhost:8080/",
          "height": 255
        },
        "outputId": "c80f066b-5b4b-46e5-c8f0-596c559f38b0"
      },
      "source": [
        "#separete x from y (training data & target)\n",
        "\n",
        "cols = data.shape[1] # 1000 * 3 [0]= 1000 [1]= 3 \n",
        "X = data.iloc[:, 0:cols-1]\n",
        "y = data.iloc[:, cols-1:cols]\n",
        "\n",
        "print('Training data: \\n', X.head())\n",
        "print('Target: \\n', y.head())"
      ],
      "execution_count": 38,
      "outputs": [
        {
          "output_type": "stream",
          "text": [
            "Training data: \n",
            "    Ones  Population\n",
            "0     1      6.1101\n",
            "1     1      5.5277\n",
            "2     1      8.5186\n",
            "3     1      7.0032\n",
            "4     1      5.8598\n",
            "Target: \n",
            "     Profit\n",
            "0  17.5920\n",
            "1   9.1302\n",
            "2  13.6620\n",
            "3  11.8540\n",
            "4   6.8233\n"
          ],
          "name": "stdout"
        }
      ]
    },
    {
      "cell_type": "code",
      "metadata": {
        "id": "dBv3wr3OlOWz",
        "colab_type": "code",
        "colab": {
          "base_uri": "https://localhost:8080/",
          "height": 1000
        },
        "outputId": "beb8a2b8-500d-4c8d-d63b-53b93d5d01c6"
      },
      "source": [
        "#convert from dataframe to numpy matrices\n",
        "\n",
        "X = np.matrix(X)\n",
        "y = np.matrix(y)\n",
        "\n",
        "print(X)\n",
        "print(y)\n",
        "\n",
        "theta = np.matrix(np.array([0,0]))\n",
        "print(theta)"
      ],
      "execution_count": 43,
      "outputs": [
        {
          "output_type": "stream",
          "text": [
            "[[ 1.      6.1101]\n",
            " [ 1.      5.5277]\n",
            " [ 1.      8.5186]\n",
            " [ 1.      7.0032]\n",
            " [ 1.      5.8598]\n",
            " [ 1.      8.3829]\n",
            " [ 1.      7.4764]\n",
            " [ 1.      8.5781]\n",
            " [ 1.      6.4862]\n",
            " [ 1.      5.0546]\n",
            " [ 1.      5.7107]\n",
            " [ 1.     14.164 ]\n",
            " [ 1.      5.734 ]\n",
            " [ 1.      8.4084]\n",
            " [ 1.      5.6407]\n",
            " [ 1.      5.3794]\n",
            " [ 1.      6.3654]\n",
            " [ 1.      5.1301]\n",
            " [ 1.      6.4296]\n",
            " [ 1.      7.0708]\n",
            " [ 1.      6.1891]\n",
            " [ 1.     20.27  ]\n",
            " [ 1.      5.4901]\n",
            " [ 1.      6.3261]\n",
            " [ 1.      5.5649]\n",
            " [ 1.     18.945 ]\n",
            " [ 1.     12.828 ]\n",
            " [ 1.     10.957 ]\n",
            " [ 1.     13.176 ]\n",
            " [ 1.     22.203 ]\n",
            " [ 1.      5.2524]\n",
            " [ 1.      6.5894]\n",
            " [ 1.      9.2482]\n",
            " [ 1.      5.8918]\n",
            " [ 1.      8.2111]\n",
            " [ 1.      7.9334]\n",
            " [ 1.      8.0959]\n",
            " [ 1.      5.6063]\n",
            " [ 1.     12.836 ]\n",
            " [ 1.      6.3534]\n",
            " [ 1.      5.4069]\n",
            " [ 1.      6.8825]\n",
            " [ 1.     11.708 ]\n",
            " [ 1.      5.7737]\n",
            " [ 1.      7.8247]\n",
            " [ 1.      7.0931]\n",
            " [ 1.      5.0702]\n",
            " [ 1.      5.8014]\n",
            " [ 1.     11.7   ]\n",
            " [ 1.      5.5416]\n",
            " [ 1.      7.5402]\n",
            " [ 1.      5.3077]\n",
            " [ 1.      7.4239]\n",
            " [ 1.      7.6031]\n",
            " [ 1.      6.3328]\n",
            " [ 1.      6.3589]\n",
            " [ 1.      6.2742]\n",
            " [ 1.      5.6397]\n",
            " [ 1.      9.3102]\n",
            " [ 1.      9.4536]\n",
            " [ 1.      8.8254]\n",
            " [ 1.      5.1793]\n",
            " [ 1.     21.279 ]\n",
            " [ 1.     14.908 ]\n",
            " [ 1.     18.959 ]\n",
            " [ 1.      7.2182]\n",
            " [ 1.      8.2951]\n",
            " [ 1.     10.236 ]\n",
            " [ 1.      5.4994]\n",
            " [ 1.     20.341 ]\n",
            " [ 1.     10.136 ]\n",
            " [ 1.      7.3345]\n",
            " [ 1.      6.0062]\n",
            " [ 1.      7.2259]\n",
            " [ 1.      5.0269]\n",
            " [ 1.      6.5479]\n",
            " [ 1.      7.5386]\n",
            " [ 1.      5.0365]\n",
            " [ 1.     10.274 ]\n",
            " [ 1.      5.1077]\n",
            " [ 1.      5.7292]\n",
            " [ 1.      5.1884]\n",
            " [ 1.      6.3557]\n",
            " [ 1.      9.7687]\n",
            " [ 1.      6.5159]\n",
            " [ 1.      8.5172]\n",
            " [ 1.      9.1802]\n",
            " [ 1.      6.002 ]\n",
            " [ 1.      5.5204]\n",
            " [ 1.      5.0594]\n",
            " [ 1.      5.7077]\n",
            " [ 1.      7.6366]\n",
            " [ 1.      5.8707]\n",
            " [ 1.      5.3054]\n",
            " [ 1.      8.2934]\n",
            " [ 1.     13.394 ]\n",
            " [ 1.      5.4369]]\n",
            "[[17.592  ]\n",
            " [ 9.1302 ]\n",
            " [13.662  ]\n",
            " [11.854  ]\n",
            " [ 6.8233 ]\n",
            " [11.886  ]\n",
            " [ 4.3483 ]\n",
            " [12.     ]\n",
            " [ 6.5987 ]\n",
            " [ 3.8166 ]\n",
            " [ 3.2522 ]\n",
            " [15.505  ]\n",
            " [ 3.1551 ]\n",
            " [ 7.2258 ]\n",
            " [ 0.71618]\n",
            " [ 3.5129 ]\n",
            " [ 5.3048 ]\n",
            " [ 0.56077]\n",
            " [ 3.6518 ]\n",
            " [ 5.3893 ]\n",
            " [ 3.1386 ]\n",
            " [21.767  ]\n",
            " [ 4.263  ]\n",
            " [ 5.1875 ]\n",
            " [ 3.0825 ]\n",
            " [22.638  ]\n",
            " [13.501  ]\n",
            " [ 7.0467 ]\n",
            " [14.692  ]\n",
            " [24.147  ]\n",
            " [-1.22   ]\n",
            " [ 5.9966 ]\n",
            " [12.134  ]\n",
            " [ 1.8495 ]\n",
            " [ 6.5426 ]\n",
            " [ 4.5623 ]\n",
            " [ 4.1164 ]\n",
            " [ 3.3928 ]\n",
            " [10.117  ]\n",
            " [ 5.4974 ]\n",
            " [ 0.55657]\n",
            " [ 3.9115 ]\n",
            " [ 5.3854 ]\n",
            " [ 2.4406 ]\n",
            " [ 6.7318 ]\n",
            " [ 1.0463 ]\n",
            " [ 5.1337 ]\n",
            " [ 1.844  ]\n",
            " [ 8.0043 ]\n",
            " [ 1.0179 ]\n",
            " [ 6.7504 ]\n",
            " [ 1.8396 ]\n",
            " [ 4.2885 ]\n",
            " [ 4.9981 ]\n",
            " [ 1.4233 ]\n",
            " [-1.4211 ]\n",
            " [ 2.4756 ]\n",
            " [ 4.6042 ]\n",
            " [ 3.9624 ]\n",
            " [ 5.4141 ]\n",
            " [ 5.1694 ]\n",
            " [-0.74279]\n",
            " [17.929  ]\n",
            " [12.054  ]\n",
            " [17.054  ]\n",
            " [ 4.8852 ]\n",
            " [ 5.7442 ]\n",
            " [ 7.7754 ]\n",
            " [ 1.0173 ]\n",
            " [20.992  ]\n",
            " [ 6.6799 ]\n",
            " [ 4.0259 ]\n",
            " [ 1.2784 ]\n",
            " [ 3.3411 ]\n",
            " [-2.6807 ]\n",
            " [ 0.29678]\n",
            " [ 3.8845 ]\n",
            " [ 5.7014 ]\n",
            " [ 6.7526 ]\n",
            " [ 2.0576 ]\n",
            " [ 0.47953]\n",
            " [ 0.20421]\n",
            " [ 0.67861]\n",
            " [ 7.5435 ]\n",
            " [ 5.3436 ]\n",
            " [ 4.2415 ]\n",
            " [ 6.7981 ]\n",
            " [ 0.92695]\n",
            " [ 0.152  ]\n",
            " [ 2.8214 ]\n",
            " [ 1.8451 ]\n",
            " [ 4.2959 ]\n",
            " [ 7.2029 ]\n",
            " [ 1.9869 ]\n",
            " [ 0.14454]\n",
            " [ 9.0551 ]\n",
            " [ 0.61705]]\n",
            "[[0 0]]\n"
          ],
          "name": "stdout"
        }
      ]
    },
    {
      "cell_type": "code",
      "metadata": {
        "id": "wIAqHRb9l1sj",
        "colab_type": "code",
        "colab": {
          "base_uri": "https://localhost:8080/",
          "height": 34
        },
        "outputId": "9faafbaf-7196-4b46-bd23-68007ab14e4c"
      },
      "source": [
        "print(X.shape, y.shape, theta.shape)"
      ],
      "execution_count": 44,
      "outputs": [
        {
          "output_type": "stream",
          "text": [
            "(97, 2) (97, 1) (1, 2)\n"
          ],
          "name": "stdout"
        }
      ]
    },
    {
      "cell_type": "code",
      "metadata": {
        "id": "SYkvkprNmtfe",
        "colab_type": "code",
        "colab": {
          "base_uri": "https://localhost:8080/",
          "height": 34
        },
        "outputId": "0dfd6360-6d77-402c-d013-ed2f776fabec"
      },
      "source": [
        "#Cost function\n",
        "\n",
        "def computeCost(X, y, theta):\n",
        "  z = np.power(((X*theta.T) - y), 2)\n",
        "  return np.sum(z) / (2*len(X))\n",
        "\n",
        "print (computeCost(X, y, theta))"
      ],
      "execution_count": 47,
      "outputs": [
        {
          "output_type": "stream",
          "text": [
            "32.072733877455676\n"
          ],
          "name": "stdout"
        }
      ]
    },
    {
      "cell_type": "code",
      "metadata": {
        "id": "kRnbadX_r5zR",
        "colab_type": "code",
        "colab": {}
      },
      "source": [
        ""
      ],
      "execution_count": null,
      "outputs": []
    },
    {
      "cell_type": "code",
      "metadata": {
        "id": "48cFylt9nwPp",
        "colab_type": "code",
        "colab": {}
      },
      "source": [
        "#Gradient descent\n",
        "\n",
        "def GD(X, y, theta, alpha, num_iterations):\n",
        "  temp = np.matrix(np.zeros(theta.shape)) #matrix with 2 rows\n",
        "  parameters = int(theta.ravel().shape[1]) #2\n",
        "  cost = np.zeros(num_iterations) #matrix with 1000 rows\n",
        "\n",
        "  for i in range(num_iterations):\n",
        "    error = (X*theta.T) - y # h(theta) - y\n",
        "\n",
        "    for j in range(parameters): #0 > 1\n",
        "      term = np.multiply(error, X[:,j]) \n",
        "      temp[0,j] = theta[0,j] - ((alpha / len(X))) * np.sum(term)\n",
        "    \n",
        "    theta = temp #update theta\n",
        "    cost[i] = computeCost(X, y, theta)\n",
        "  \n",
        "  return theta, cost"
      ],
      "execution_count": 49,
      "outputs": []
    },
    {
      "cell_type": "code",
      "metadata": {
        "id": "GJbfwoKFsPFs",
        "colab_type": "code",
        "colab": {
          "base_uri": "https://localhost:8080/",
          "height": 1000
        },
        "outputId": "df99b3a5-13fe-4395-ed02-43291f78a46c"
      },
      "source": [
        "alpha = 0.001\n",
        "num_iterations = 1000\n",
        "\n",
        "g, cost = GD(X,y, theta, alpha,num_iterations)\n",
        "print('g: ',g)\n",
        "print('cost: ',cost)"
      ],
      "execution_count": 69,
      "outputs": [
        {
          "output_type": "stream",
          "text": [
            "[[0. 0.]]\n",
            "2\n",
            "g:  [[-0.57607021  0.8595327 ]]\n",
            "cost:  [27.94761975 24.47289937 21.54601437 19.08057847 17.00382734 15.25447061\n",
            " 13.7808826  12.5395783  11.49392969 10.61308452  9.87105552  9.24595327\n",
            "  8.71934001  8.27568536  7.90190791  7.58698897  7.32164737  7.09806546\n",
            "  6.90965833  6.75087941  6.61705675  6.50425513  6.40915982  6.32897881\n",
            "  6.26136035  6.20432352  6.15619976  6.11558363  6.08129131  6.05232565\n",
            "  6.02784674  6.00714709  5.98963081  5.97479594  5.9622197   5.95154595\n",
            "  5.94247473  5.93475337  5.92816904  5.92254248  5.91772269  5.91358249\n",
            "  5.91001473  5.90692918  5.90424984  5.90191267  5.89986376  5.89805767\n",
            "  5.89645614  5.89502695  5.89374295  5.89258128  5.89152267  5.8905509\n",
            "  5.88965231  5.88881538  5.88803043  5.88728928  5.88658506  5.88591197\n",
            "  5.88526513  5.88464043  5.88403441  5.88344416  5.88286721  5.88230149\n",
            "  5.88174527  5.88119707  5.88065566  5.88012     5.87958921  5.87906254\n",
            "  5.87853939  5.87801921  5.87750158  5.87698612  5.87647251  5.87596049\n",
            "  5.87544985  5.87494038  5.87443195  5.8739244   5.87341763  5.87291154\n",
            "  5.87240607  5.87190113  5.87139667  5.87089265  5.87038902  5.86988575\n",
            "  5.86938282  5.86888019  5.86837785  5.86787579  5.86737398  5.86687242\n",
            "  5.86637109  5.86586998  5.8653691   5.86486843  5.86436797  5.86386771\n",
            "  5.86336764  5.86286778  5.86236811  5.86186863  5.86136934  5.86087024\n",
            "  5.86037133  5.8598726   5.85937406  5.8588757   5.85837752  5.85787953\n",
            "  5.85738171  5.85688408  5.85638663  5.85588937  5.85539228  5.85489537\n",
            "  5.85439864  5.85390209  5.85340572  5.85290954  5.85241353  5.8519177\n",
            "  5.85142204  5.85092657  5.85043128  5.84993616  5.84944123  5.84894647\n",
            "  5.84845189  5.84795749  5.84746327  5.84696922  5.84647535  5.84598167\n",
            "  5.84548816  5.84499482  5.84450167  5.84400869  5.84351589  5.84302327\n",
            "  5.84253083  5.84203856  5.84154647  5.84105456  5.84056283  5.84007127\n",
            "  5.83957989  5.83908869  5.83859767  5.83810682  5.83761615  5.83712565\n",
            "  5.83663534  5.83614519  5.83565523  5.83516544  5.83467583  5.8341864\n",
            "  5.83369714  5.83320806  5.83271915  5.83223042  5.83174187  5.83125349\n",
            "  5.83076529  5.83027727  5.82978942  5.82930175  5.82881425  5.82832693\n",
            "  5.82783978  5.82735281  5.82686602  5.8263794   5.82589296  5.82540669\n",
            "  5.8249206   5.82443468  5.82394893  5.82346337  5.82297798  5.82249276\n",
            "  5.82200772  5.82152285  5.82103815  5.82055364  5.82006929  5.81958512\n",
            "  5.81910113  5.81861731  5.81813366  5.81765019  5.8171669   5.81668377\n",
            "  5.81620083  5.81571805  5.81523545  5.81475302  5.81427077  5.81378869\n",
            "  5.81330679  5.81282506  5.8123435   5.81186212  5.81138091  5.81089987\n",
            "  5.81041901  5.80993832  5.8094578   5.80897745  5.80849728  5.80801729\n",
            "  5.80753746  5.80705781  5.80657833  5.80609903  5.80561989  5.80514093\n",
            "  5.80466215  5.80418353  5.80370509  5.80322682  5.80274872  5.8022708\n",
            "  5.80179304  5.80131546  5.80083806  5.80036082  5.79988376  5.79940686\n",
            "  5.79893014  5.79845359  5.79797722  5.79750101  5.79702498  5.79654912\n",
            "  5.79607343  5.79559791  5.79512256  5.79464739  5.79417238  5.79369755\n",
            "  5.79322289  5.79274839  5.79227407  5.79179992  5.79132595  5.79085214\n",
            "  5.7903785   5.78990504  5.78943174  5.78895862  5.78848566  5.78801288\n",
            "  5.78754027  5.78706782  5.78659555  5.78612345  5.78565152  5.78517976\n",
            "  5.78470816  5.78423674  5.78376549  5.78329441  5.7828235   5.78235276\n",
            "  5.78188218  5.78141178  5.78094155  5.78047148  5.78000159  5.77953186\n",
            "  5.77906231  5.77859292  5.7781237   5.77765466  5.77718578  5.77671707\n",
            "  5.77624853  5.77578015  5.77531195  5.77484392  5.77437605  5.77390835\n",
            "  5.77344082  5.77297346  5.77250627  5.77203925  5.7715724   5.77110571\n",
            "  5.77063919  5.77017284  5.76970666  5.76924065  5.7687748   5.76830912\n",
            "  5.76784361  5.76737827  5.76691309  5.76644809  5.76598325  5.76551858\n",
            "  5.76505407  5.76458974  5.76412557  5.76366157  5.76319773  5.76273406\n",
            "  5.76227056  5.76180723  5.76134406  5.76088106  5.76041823  5.75995557\n",
            "  5.75949307  5.75903074  5.75856857  5.75810657  5.75764474  5.75718307\n",
            "  5.75672157  5.75626024  5.75579907  5.75533807  5.75487724  5.75441657\n",
            "  5.75395607  5.75349573  5.75303556  5.75257556  5.75211572  5.75165605\n",
            "  5.75119654  5.7507372   5.75027803  5.74981902  5.74936017  5.74890149\n",
            "  5.74844298  5.74798463  5.74752645  5.74706843  5.74661057  5.74615289\n",
            "  5.74569536  5.74523801  5.74478081  5.74432378  5.74386692  5.74341022\n",
            "  5.74295369  5.74249732  5.74204111  5.74158507  5.7411292   5.74067348\n",
            "  5.74021794  5.73976255  5.73930733  5.73885228  5.73839739  5.73794266\n",
            "  5.7374881   5.7370337   5.73657946  5.73612539  5.73567148  5.73521774\n",
            "  5.73476415  5.73431074  5.73385748  5.73340439  5.73295146  5.7324987\n",
            "  5.7320461   5.73159366  5.73114139  5.73068928  5.73023733  5.72978554\n",
            "  5.72933392  5.72888246  5.72843116  5.72798003  5.72752905  5.72707825\n",
            "  5.7266276   5.72617711  5.72572679  5.72527663  5.72482664  5.7243768\n",
            "  5.72392713  5.72347762  5.72302827  5.72257908  5.72213006  5.72168119\n",
            "  5.72123249  5.72078395  5.72033557  5.71988736  5.7194393   5.71899141\n",
            "  5.71854368  5.71809611  5.7176487   5.71720145  5.71675436  5.71630744\n",
            "  5.71586068  5.71541407  5.71496763  5.71452135  5.71407523  5.71362927\n",
            "  5.71318347  5.71273783  5.71229236  5.71184704  5.71140188  5.71095689\n",
            "  5.71051205  5.71006738  5.70962286  5.70917851  5.70873431  5.70829028\n",
            "  5.7078464   5.70740269  5.70695914  5.70651574  5.70607251  5.70562943\n",
            "  5.70518652  5.70474376  5.70430117  5.70385873  5.70341646  5.70297434\n",
            "  5.70253238  5.70209058  5.70164894  5.70120746  5.70076614  5.70032498\n",
            "  5.69988398  5.69944313  5.69900245  5.69856192  5.69812156  5.69768135\n",
            "  5.6972413   5.69680141  5.69636167  5.6959221   5.69548269  5.69504343\n",
            "  5.69460433  5.69416539  5.69372661  5.69328798  5.69284952  5.69241121\n",
            "  5.69197306  5.69153507  5.69109723  5.69065956  5.69022204  5.68978468\n",
            "  5.68934747  5.68891043  5.68847354  5.68803681  5.68760024  5.68716382\n",
            "  5.68672756  5.68629146  5.68585552  5.68541973  5.6849841   5.68454863\n",
            "  5.68411332  5.68367816  5.68324316  5.68280831  5.68237362  5.68193909\n",
            "  5.68150472  5.6810705   5.68063644  5.68020253  5.67976878  5.67933519\n",
            "  5.67890175  5.67846847  5.67803535  5.67760238  5.67716957  5.67673692\n",
            "  5.67630442  5.67587207  5.67543988  5.67500785  5.67457598  5.67414426\n",
            "  5.67371269  5.67328128  5.67285003  5.67241893  5.67198799  5.6715572\n",
            "  5.67112657  5.67069609  5.67026577  5.6698356   5.66940559  5.66897573\n",
            "  5.66854603  5.66811648  5.66768709  5.66725786  5.66682877  5.66639985\n",
            "  5.66597107  5.66554245  5.66511399  5.66468568  5.66425753  5.66382952\n",
            "  5.66340168  5.66297399  5.66254645  5.66211906  5.66169183  5.66126476\n",
            "  5.66083784  5.66041107  5.65998445  5.65955799  5.65913169  5.65870553\n",
            "  5.65827953  5.65785369  5.657428    5.65700246  5.65657707  5.65615184\n",
            "  5.65572676  5.65530183  5.65487706  5.65445244  5.65402798  5.65360366\n",
            "  5.6531795   5.6527555   5.65233164  5.65190794  5.65148439  5.65106099\n",
            "  5.65063775  5.65021466  5.64979172  5.64936893  5.6489463   5.64852382\n",
            "  5.64810149  5.64767931  5.64725729  5.64683542  5.6464137   5.64599213\n",
            "  5.64557071  5.64514945  5.64472833  5.64430737  5.64388656  5.64346591\n",
            "  5.6430454   5.64262505  5.64220484  5.64178479  5.64136489  5.64094515\n",
            "  5.64052555  5.6401061   5.63968681  5.63926766  5.63884867  5.63842983\n",
            "  5.63801114  5.6375926   5.63717421  5.63675598  5.63633789  5.63591995\n",
            "  5.63550217  5.63508453  5.63466705  5.63424971  5.63383253  5.6334155\n",
            "  5.63299861  5.63258188  5.6321653   5.63174887  5.63133259  5.63091645\n",
            "  5.63050047  5.63008464  5.62966896  5.62925343  5.62883804  5.62842281\n",
            "  5.62800773  5.6275928   5.62717801  5.62676338  5.62634889  5.62593456\n",
            "  5.62552037  5.62510634  5.62469245  5.62427871  5.62386512  5.62345168\n",
            "  5.62303839  5.62262525  5.62221225  5.62179941  5.62138672  5.62097417\n",
            "  5.62056177  5.62014952  5.61973742  5.61932547  5.61891367  5.61850201\n",
            "  5.6180905   5.61767915  5.61726794  5.61685688  5.61644596  5.6160352\n",
            "  5.61562458  5.61521411  5.61480379  5.61439361  5.61398359  5.61357371\n",
            "  5.61316398  5.6127544   5.61234496  5.61193568  5.61152654  5.61111755\n",
            "  5.6107087   5.6103      5.60989145  5.60948305  5.6090748   5.60866669\n",
            "  5.60825873  5.60785091  5.60744325  5.60703573  5.60662835  5.60622113\n",
            "  5.60581405  5.60540711  5.60500033  5.60459369  5.6041872   5.60378085\n",
            "  5.60337465  5.6029686   5.60256269  5.60215693  5.60175131  5.60134585\n",
            "  5.60094052  5.60053535  5.60013032  5.59972543  5.5993207   5.59891611\n",
            "  5.59851166  5.59810736  5.5977032   5.5972992   5.59689533  5.59649161\n",
            "  5.59608804  5.59568462  5.59528133  5.5948782   5.59447521  5.59407236\n",
            "  5.59366966  5.59326711  5.5928647   5.59246243  5.59206031  5.59165834\n",
            "  5.59125651  5.59085482  5.59045328  5.59005189  5.58965064  5.58924953\n",
            "  5.58884857  5.58844775  5.58804708  5.58764655  5.58724617  5.58684593\n",
            "  5.58644584  5.58604588  5.58564608  5.58524642  5.5848469   5.58444752\n",
            "  5.58404829  5.58364921  5.58325026  5.58285146  5.58245281  5.5820543\n",
            "  5.58165593  5.58125771  5.58085963  5.58046169  5.5800639   5.57966625\n",
            "  5.57926874  5.57887138  5.57847415  5.57807708  5.57768014  5.57728335\n",
            "  5.57688671  5.5764902   5.57609384  5.57569762  5.57530154  5.57490561\n",
            "  5.57450982  5.57411417  5.57371867  5.5733233   5.57292808  5.57253301\n",
            "  5.57213807  5.57174328  5.57134863  5.57095412  5.57055975  5.57016553\n",
            "  5.56977145  5.56937751  5.56898371  5.56859005  5.56819654  5.56780317\n",
            "  5.56740994  5.56701685  5.5666239   5.56623109  5.56583843  5.56544591\n",
            "  5.56505353  5.56466129  5.56426919  5.56387724  5.56348542  5.56309375\n",
            "  5.56270221  5.56231082  5.56191957  5.56152846  5.56113749  5.56074667\n",
            "  5.56035598  5.55996543  5.55957503  5.55918477  5.55879464  5.55840466\n",
            "  5.55801482  5.55762512  5.55723555  5.55684613  5.55645685  5.55606771\n",
            "  5.55567871  5.55528985  5.55490113  5.55451255  5.55412411  5.55373582\n",
            "  5.55334766  5.55295964  5.55257176  5.55218402  5.55179642  5.55140896\n",
            "  5.55102164  5.55063446  5.55024742  5.54986051  5.54947375  5.54908713\n",
            "  5.54870065  5.5483143   5.5479281   5.54754203  5.5471561   5.54677032\n",
            "  5.54638467  5.54599916  5.54561379  5.54522856  5.54484347  5.54445851\n",
            "  5.5440737   5.54368902  5.54330448  5.54292008  5.54253582  5.5421517\n",
            "  5.54176772  5.54138387  5.54100017  5.5406166   5.54023317  5.53984988\n",
            "  5.53946672  5.53908371  5.53870083  5.53831809  5.53793549  5.53755303\n",
            "  5.5371707   5.53678851  5.53640646  5.53602455  5.53564278  5.53526114\n",
            "  5.53487964  5.53449828  5.53411706  5.53373597  5.53335502  5.53297421\n",
            "  5.53259353  5.53221299  5.53183259  5.53145233  5.5310722   5.53069221\n",
            "  5.53031236  5.52993265  5.52955307  5.52917363  5.52879432  5.52841515\n",
            "  5.52803612  5.52765723  5.52727847  5.52689985  5.52652136  5.52614301\n",
            "  5.5257648   5.52538672  5.52500878  5.52463098  5.52425331  5.52387578\n",
            "  5.52349839  5.52312113  5.52274401  5.52236702  5.52199017  5.52161345\n",
            "  5.52123687  5.52086043  5.52048412  5.52010795  5.51973191  5.51935601\n",
            "  5.51898024  5.51860461  5.51822912  5.51785376  5.51747854  5.51710345\n",
            "  5.51672849  5.51635367  5.51597899  5.51560444  5.51523003  5.51485575\n",
            "  5.51448161  5.5141076   5.51373372  5.51335999  5.51298638  5.51261291\n",
            "  5.51223958  5.51186638  5.51149331  5.51112038  5.51074758  5.51037492\n",
            "  5.51000239  5.50963     5.50925774  5.50888561  5.50851362  5.50814176\n",
            "  5.50777004  5.50739845  5.507027    5.50665567  5.50628449  5.50591343\n",
            "  5.50554251  5.50517173  5.50480108  5.50443056  5.50406017  5.50368992\n",
            "  5.5033198   5.50294982  5.50257996  5.50221025  5.50184066  5.50147121\n",
            "  5.50110189  5.50073271  5.50036365  5.49999473  5.49962595  5.49925729\n",
            "  5.49888877  5.49852039  5.49815213  5.49778401  5.49741602  5.49704816\n",
            "  5.49668044  5.49631285  5.49594539  5.49557806  5.49521087  5.49484381\n",
            "  5.49447688  5.49411008  5.49374341  5.49337688  5.49301048  5.49264421\n",
            "  5.49227808  5.49191207  5.4915462   5.49118046  5.49081485  5.49044937\n",
            "  5.49008403  5.48971881  5.48935373  5.48898878  5.48862396  5.48825928\n",
            "  5.48789472  5.48753029  5.487166    5.48680184  5.48643781  5.48607391\n",
            "  5.48571014  5.48534651  5.484983    5.48461963  5.48425638  5.48389327\n",
            "  5.48353029  5.48316744  5.48280472  5.48244213  5.48207967  5.48171734\n",
            "  5.48135514  5.48099307  5.48063114  5.48026933]\n"
          ],
          "name": "stdout"
        }
      ]
    },
    {
      "cell_type": "code",
      "metadata": {
        "id": "lGOIaMfHsU7y",
        "colab_type": "code",
        "colab": {
          "base_uri": "https://localhost:8080/",
          "height": 34
        },
        "outputId": "a6125571-5efb-4006-dd4c-a98e9f4fcb5f"
      },
      "source": [
        "print(computeCost(X, y, g))"
      ],
      "execution_count": 70,
      "outputs": [
        {
          "output_type": "stream",
          "text": [
            "5.480269332020322\n"
          ],
          "name": "stdout"
        }
      ]
    },
    {
      "cell_type": "code",
      "metadata": {
        "id": "WLyeHw67s2xP",
        "colab_type": "code",
        "colab": {
          "base_uri": "https://localhost:8080/",
          "height": 323
        },
        "outputId": "42567205-da2e-4e4e-927a-fc5300cc62a1"
      },
      "source": [
        "#get the min of population & the max of profit than / it in 100 parts\n",
        "x = np.linspace(data.Population.min(), data.Profit.max(), 100)\n",
        "print(o)\n",
        "\n",
        "print(g)"
      ],
      "execution_count": 71,
      "outputs": [
        {
          "output_type": "stream",
          "text": [
            "[ 5.0269      5.22003232  5.41316465  5.60629697  5.79942929  5.99256162\n",
            "  6.18569394  6.37882626  6.57195859  6.76509091  6.95822323  7.15135556\n",
            "  7.34448788  7.5376202   7.73075253  7.92388485  8.11701717  8.31014949\n",
            "  8.50328182  8.69641414  8.88954646  9.08267879  9.27581111  9.46894343\n",
            "  9.66207576  9.85520808 10.0483404  10.24147273 10.43460505 10.62773737\n",
            " 10.8208697  11.01400202 11.20713434 11.40026667 11.59339899 11.78653131\n",
            " 11.97966364 12.17279596 12.36592828 12.55906061 12.75219293 12.94532525\n",
            " 13.13845758 13.3315899  13.52472222 13.71785455 13.91098687 14.10411919\n",
            " 14.29725152 14.49038384 14.68351616 14.87664848 15.06978081 15.26291313\n",
            " 15.45604545 15.64917778 15.8423101  16.03544242 16.22857475 16.42170707\n",
            " 16.61483939 16.80797172 17.00110404 17.19423636 17.38736869 17.58050101\n",
            " 17.77363333 17.96676566 18.15989798 18.3530303  18.54616263 18.73929495\n",
            " 18.93242727 19.1255596  19.31869192 19.51182424 19.70495657 19.89808889\n",
            " 20.09122121 20.28435354 20.47748586 20.67061818 20.86375051 21.05688283\n",
            " 21.25001515 21.44314747 21.6362798  21.82941212 22.02254444 22.21567677\n",
            " 22.40880909 22.60194141 22.79507374 22.98820606 23.18133838 23.37447071\n",
            " 23.56760303 23.76073535 23.95386768 24.147     ]\n",
            "[[-0.57607021  0.8595327 ]]\n"
          ],
          "name": "stdout"
        }
      ]
    },
    {
      "cell_type": "code",
      "metadata": {
        "id": "Kko3ndoKuE_q",
        "colab_type": "code",
        "colab": {
          "base_uri": "https://localhost:8080/",
          "height": 306
        },
        "outputId": "0ead1f91-c696-4a44-ca42-c50180550a02"
      },
      "source": [
        "f = g[0,0] + g[0,1]*x # H(theta) = thetha0 + theta*x\n",
        "print(f)"
      ],
      "execution_count": 72,
      "outputs": [
        {
          "output_type": "stream",
          "text": [
            "[ 3.74471471  3.91071826  4.07672181  4.24272536  4.4087289   4.57473245\n",
            "  4.740736    4.90673954  5.07274309  5.23874664  5.40475019  5.57075373\n",
            "  5.73675728  5.90276083  6.06876437  6.23476792  6.40077147  6.56677502\n",
            "  6.73277856  6.89878211  7.06478566  7.2307892   7.39679275  7.5627963\n",
            "  7.72879985  7.89480339  8.06080694  8.22681049  8.39281403  8.55881758\n",
            "  8.72482113  8.89082468  9.05682822  9.22283177  9.38883532  9.55483886\n",
            "  9.72084241  9.88684596 10.05284951 10.21885305 10.3848566  10.55086015\n",
            " 10.71686369 10.88286724 11.04887079 11.21487434 11.38087788 11.54688143\n",
            " 11.71288498 11.87888853 12.04489207 12.21089562 12.37689917 12.54290271\n",
            " 12.70890626 12.87490981 13.04091336 13.2069169  13.37292045 13.538924\n",
            " 13.70492754 13.87093109 14.03693464 14.20293819 14.36894173 14.53494528\n",
            " 14.70094883 14.86695237 15.03295592 15.19895947 15.36496302 15.53096656\n",
            " 15.69697011 15.86297366 16.0289772  16.19498075 16.3609843  16.52698785\n",
            " 16.69299139 16.85899494 17.02499849 17.19100203 17.35700558 17.52300913\n",
            " 17.68901268 17.85501622 18.02101977 18.18702332 18.35302686 18.51903041\n",
            " 18.68503396 18.85103751 19.01704105 19.1830446  19.34904815 19.51505169\n",
            " 19.68105524 19.84705879 20.01306234 20.17906588]\n"
          ],
          "name": "stdout"
        }
      ]
    },
    {
      "cell_type": "code",
      "metadata": {
        "id": "Ub05gsoluobA",
        "colab_type": "code",
        "colab": {
          "base_uri": "https://localhost:8080/",
          "height": 367
        },
        "outputId": "e6e0c07f-6d52-45d5-ada7-4dc876ea2aa2"
      },
      "source": [
        "#plot best fit line\n",
        "fig, ax = plt.subplots(figsize=(5,5))\n",
        "ax.plot(x, f, 'r', label='Prediction')\n",
        "ax.scatter(data.Population, data.Profit, label='Training Data')\n",
        "ax.legend(loc=2)\n",
        "ax.set_xlabel('Prediction')\n",
        "ax.set_ylabel('Profit')\n",
        "ax.set_title('Predicted Profit vs Population Size')"
      ],
      "execution_count": 73,
      "outputs": [
        {
          "output_type": "execute_result",
          "data": {
            "text/plain": [
              "Text(0.5, 1.0, 'Predicted Profit vs Population Size')"
            ]
          },
          "metadata": {
            "tags": []
          },
          "execution_count": 73
        },
        {
          "output_type": "display_data",
          "data": {
            "image/png": "[encoded data removed]",
            "text/plain": [
              "<Figure size 360x360 with 1 Axes>"
            ]
          },
          "metadata": {
            "tags": [],
            "needs_background": "light"
          }
        }
      ]
    },
    {
      "cell_type": "code",
      "metadata": {
        "id": "TeTdRHbzvvJy",
        "colab_type": "code",
        "colab": {
          "base_uri": "https://localhost:8080/",
          "height": 367
        },
        "outputId": "fc65c348-b151-4426-94a8-dc2c22b4e3c7"
      },
      "source": [
        "#plot the cost graph\n",
        "fig, ax = plt.subplots(figsize=(5,5))\n",
        "ax.plot(np.arange(num_iterations), cost, 'r')\n",
        "ax.set_xlabel('Iterations')\n",
        "ax.set_ylabel('Cost')\n",
        "ax.set_title('Error vs Training Epoch')"
      ],
      "execution_count": 74,
      "outputs": [
        {
          "output_type": "execute_result",
          "data": {
            "text/plain": [
              "Text(0.5, 1.0, 'Error vs Training Epoch')"
            ]
          },
          "metadata": {
            "tags": []
          },
          "execution_count": 74
        },
        {
          "output_type": "display_data",
          "data": {
            "image/png": "[encoded data removed]",
            "text/plain": [
              "<Figure size 360x360 with 1 Axes>"
            ]
          },
          "metadata": {
            "tags": [],
            "needs_background": "light"
          }
        }
      ]
    },
    {
      "cell_type": "code",
      "metadata": {
        "id": "D2_hMyOGwKfE",
        "colab_type": "code",
        "colab": {}
      },
      "source": [
        ""
      ],
      "execution_count": null,
      "outputs": []
    }
  ]
}